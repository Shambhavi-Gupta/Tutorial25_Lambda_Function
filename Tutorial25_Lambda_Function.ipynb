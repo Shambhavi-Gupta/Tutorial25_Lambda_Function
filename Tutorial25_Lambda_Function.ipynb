{
  "nbformat": 4,
  "nbformat_minor": 0,
  "metadata": {
    "colab": {
      "name": "Tutorial25_Lambda Function.ipynb",
      "provenance": [],
      "authorship_tag": "ABX9TyNPW3gbwmRoiey24DsXzQ7S",
      "include_colab_link": true
    },
    "kernelspec": {
      "name": "python3",
      "display_name": "Python 3"
    }
  },
  "cells": [
    {
      "cell_type": "markdown",
      "metadata": {
        "id": "view-in-github",
        "colab_type": "text"
      },
      "source": [
        "<a href=\"https://colab.research.google.com/github/Shambhavi-Gupta/Tutorial25_Lambda_Function/blob/main/Tutorial25_Lambda_Function.ipynb\" target=\"_parent\"><img src=\"https://colab.research.google.com/assets/colab-badge.svg\" alt=\"Open In Colab\"/></a>"
      ]
    },
    {
      "cell_type": "code",
      "metadata": {
        "id": "erX0rMJbn8T6"
      },
      "source": [
        "#lambda function or anonymous function\r\n",
        "\r\n",
        "# def add(a,b):\r\n",
        "#     return a+b\r\n",
        "#\r\n",
        "#minus = lambda x, y: x-y\r\n",
        "\r\n",
        "# def minus(x,y):\r\n",
        "#    return x-y\r\n",
        "#\r\n",
        "# print(minus(9,4))\r\n",
        "\r\n",
        "# def a_first(a):\r\n",
        "#     return a[1]\r\n",
        "# a = [[1,41],[9,6],[8,23]]\r\n",
        "# a.sort(key=a_first)\r\n",
        "# print(a)\r\n",
        "\r\n",
        "a = [[1,41],[5,9],[8,23]]\r\n",
        "a.sort(key=lambda x:x[0])\r\n",
        "print(a)"
      ],
      "execution_count": null,
      "outputs": []
    }
  ]
}